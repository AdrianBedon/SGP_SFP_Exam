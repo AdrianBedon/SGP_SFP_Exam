{
 "cells": [
  {
   "cell_type": "code",
   "execution_count": 1,
   "metadata": {},
   "outputs": [],
   "source": [
    "import pandas as pd\n",
    "import numpy as np\n",
    "import os\n",
    "import time\n",
    "import datetime"
   ]
  },
  {
   "cell_type": "code",
   "execution_count": 2,
   "metadata": {},
   "outputs": [
    {
     "name": "stdout",
     "output_type": "stream",
     "text": [
      "\\\\172.31.87.176\\facturas\\06112024-Facturas Generadas.csv\n"
     ]
    }
   ],
   "source": [
    "ip_address = \"172.31.87.176\"\n",
    "folder_path = rf'\\\\{ip_address}\\facturas'\n",
    "\n",
    "today = datetime.datetime.now()\n",
    "file = f\"{today.strftime('%d%m%Y')}-Facturas Generadas.csv\"\n",
    "file_path = os.path.join(folder_path, file)\n",
    "print(file_path)"
   ]
  },
  {
   "cell_type": "code",
   "execution_count": 3,
   "metadata": {},
   "outputs": [],
   "source": [
    "def generate_facturas_file(file_path):\n",
    "    \n",
    "    data = {\n",
    "        \"Código Identificativo del Proveedor\": np.random.randint(1000, 5000, size=10),\n",
    "        \"Número de Factura\": np.random.randint(10000, 99999, size=10),\n",
    "        \"Valor de la Factura\": np.round(np.random.uniform(100.0, 1000.0, size=10), 2),\n",
    "        \"Estado\": np.random.choice([\"Aprobado\", \"Rechazado\"], size=10),\n",
    "        \"Marca de Tiempo\": [today.strftime('%Y-%m-%d')] * 10\n",
    "    }\n",
    "\n",
    "    facturas_df = pd.DataFrame(data)\n",
    "    \n",
    "    facturas_df.to_csv(file_path, index=False, encoding='utf-8')\n",
    "    print(f\"File generated: {file_path}\")"
   ]
  },
  {
   "cell_type": "code",
   "execution_count": 4,
   "metadata": {},
   "outputs": [
    {
     "name": "stdout",
     "output_type": "stream",
     "text": [
      "File generated: \\\\172.31.87.176\\facturas\\06112024-Facturas Generadas.csv\n"
     ]
    }
   ],
   "source": [
    "generate_facturas_file(file_path)"
   ]
  }
 ],
 "metadata": {
  "kernelspec": {
   "display_name": "Python 3",
   "language": "python",
   "name": "python3"
  },
  "language_info": {
   "codemirror_mode": {
    "name": "ipython",
    "version": 3
   },
   "file_extension": ".py",
   "mimetype": "text/x-python",
   "name": "python",
   "nbconvert_exporter": "python",
   "pygments_lexer": "ipython3",
   "version": "3.11.5"
  }
 },
 "nbformat": 4,
 "nbformat_minor": 2
}
